{
 "cells": [
  {
   "cell_type": "code",
   "execution_count": 22,
   "metadata": {
    "scrolled": false
   },
   "outputs": [
    {
     "name": "stdout",
     "output_type": "stream",
     "text": [
      "1a)\n",
      "Q-Learning Q-value = 3.17692\n",
      "\n",
      "1b)\n",
      "Sarsa Q-value = 3.19078\n",
      "\n",
      "1c)\n",
      "\n",
      "Off-policy refers to reinforcement learning methods that learn the value of a policy while following another, like Q-learning.\n",
      "On-policy refers to reinforcement learning methods that learn the value of the policy that the agent is following.\n",
      "SARSA is more stable than Q-learning, as long as learning policy changes smoothly with Qt\n",
      "The difference between the two update computations: the Q-learning chooses the minimum value of the Q-values for each action, in this code np.min(Q5r).\n",
      "While the SARSA algorithm it is based on the the policy it is following, in this case coded Q5r[0][3].\n"
     ]
    }
   ],
   "source": [
    "import numpy as np\n",
    "\n",
    "\n",
    "print(\"1a)\")\n",
    "\n",
    "Qt = 3.08\n",
    "c = 1.0\n",
    "\n",
    "#(4, -b r)\n",
    "Q4r = np.array([\n",
    "    [3.23 , 3.38, 3.25, 3.22]\n",
    "])\n",
    "\n",
    "#(5, -b r)\n",
    "Q5r = np.array([\n",
    "    [3.08, 3.25, 3.57, 3.22]\n",
    "])\n",
    "\n",
    "Qnew = Qt + 0.1 * (c + 0.99 * np.min(Q5r) - Qt)\n",
    "\n",
    "\n",
    "print(\"Q-Learning Q-value = %s\" % Qnew)\n",
    "\n",
    "print(\"\\n1b)\")\n",
    "\n",
    "Qt = 3.08\n",
    "\n",
    "Qnew = Qt + 0.1 * (c + 0.99*Q5r[0][3] - Qt)\n",
    "\n",
    "print(\"Sarsa Q-value = %s\" % Qnew)\n",
    "\n",
    "\n",
    "print(\"\\n1c)\\n\")\n",
    "\n",
    "print(\"Off-policy refers to reinforcement learning methods that learn the value of a policy while following another, like Q-learning.\")\n",
    "print(\"On-policy refers to reinforcement learning methods that learn the value of the policy that the agent is following.\")\n",
    "print(\"SARSA is more stable than Q-learning, as long as learning policy changes smoothly with Qt\")\n",
    "print(\"The difference between the two update computations: the Q-learning chooses the minimum value of the Q-values for each action, in this code np.min(Q5r).\")\n",
    "print(\"While the SARSA algorithm it is based on the the policy it is following, in this case coded Q5r[0][3].\")"
   ]
  },
  {
   "cell_type": "code",
   "execution_count": null,
   "metadata": {},
   "outputs": [],
   "source": []
  }
 ],
 "metadata": {
  "kernelspec": {
   "display_name": "Python 3",
   "language": "python",
   "name": "python3"
  },
  "language_info": {
   "codemirror_mode": {
    "name": "ipython",
    "version": 3
   },
   "file_extension": ".py",
   "mimetype": "text/x-python",
   "name": "python",
   "nbconvert_exporter": "python",
   "pygments_lexer": "ipython3",
   "version": "3.6.5"
  }
 },
 "nbformat": 4,
 "nbformat_minor": 2
}
