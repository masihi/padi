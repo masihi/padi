{
 "cells": [
  {
   "cell_type": "code",
   "execution_count": 1,
   "metadata": {},
   "outputs": [
    {
     "name": "stdout",
     "output_type": "stream",
     "text": [
      "ba =  [0.  0.  0.  0.  0.  0.5 0.5]\n",
      "\n",
      "\n",
      "bb =  [0.  0.  0.  0.  0.  0.5 0.5]\n",
      "\n",
      "\n",
      "bc =  [0.  0.  0.  0.5 0.5 0.  0. ]\n",
      "\n",
      "\n"
     ]
    }
   ],
   "source": [
    "import numpy as np\n",
    "\n",
    "\n",
    "X = [ 'A', 'B1', 'B2', 'C', 'D', 'E', 'F']\n",
    "\n",
    "A = ['a', 'b', 'c']\n",
    "\n",
    "Z = ['A', 'B', 'C', 'D', 'E', 'F']\n",
    "\n",
    "# Preserving the order in X\n",
    "\n",
    "Pa =np.array([[0, 0.5, 0.5, 0, 0, 0, 0],\n",
    "     [0, 0, 0, 0, 0, 1, 0],\n",
    "     [0, 0, 0, 0, 0, 0, 1],\n",
    "     [0, 1, 0, 0, 0, 0, 0],\n",
    "     [0, 0, 1, 0, 0, 0, 0],\n",
    "     [1, 0, 0, 0, 0, 0, 0],\n",
    "     [1, 0, 0, 0, 0, 0, 0]\n",
    "    ])\n",
    "\n",
    "Pb =np.array([[0, 0.5, 0.5, 0, 0, 0, 0],\n",
    "     [0, 0, 0, 0, 0, 0, 1],\n",
    "     [0, 0, 0, 0, 0, 1, 0],\n",
    "     [0, 1, 0, 0, 0, 0, 0],\n",
    "     [0, 0, 1, 0, 0, 0, 0],\n",
    "     [1, 0, 0, 0, 0, 0, 0],\n",
    "     [1, 0, 0, 0, 0, 0, 0]\n",
    "    ])\n",
    "\n",
    "\n",
    "\n",
    "Pc =np.array([[0, 0.5, 0.5, 0, 0, 0, 0],\n",
    "     [0, 0, 0, 1, 0, 0, 0],\n",
    "     [0, 0, 0, 0, 1, 0, 0],\n",
    "     [0, 1, 0, 0, 0, 0, 0],\n",
    "     [0, 0, 1, 0, 0, 0, 0],\n",
    "     [1, 0, 0, 0, 0, 0, 0],\n",
    "     [1, 0, 0, 0, 0, 0, 0]\n",
    "    ])\n",
    "\n",
    "Za = np.array([\n",
    "    [1, 0, 0, 0, 0, 0],\n",
    "    [0, 1, 0, 0, 0, 0],\n",
    "    [0, 1, 0, 0, 0, 0],\n",
    "    [0, 0, 1, 0, 0, 0],\n",
    "    [0, 0, 0, 1, 0, 0],\n",
    "    [0, 0, 0, 0, 1, 0],\n",
    "    [0, 0, 0, 0, 0, 1]\n",
    "   ])\n",
    "\n",
    "Zb = Zc = Za\n",
    "\n",
    "C = np.array([\n",
    "    [1, 1, 1],\n",
    "    [1, 1, 1],\n",
    "    [1, 1, 1],\n",
    "    [1, 1, 1],\n",
    "    [1, 1, 1],\n",
    "    [1, 1, 1],\n",
    "    [0, 0, 0]\n",
    "])\n",
    "\n",
    "\n",
    "bt = np.array([0, 0.5, 0.5, 0, 0, 0, 0])\n",
    "\n",
    "ba = np.dot(bt,Pa)\n",
    "\n",
    "bb = np.dot(bt,Pb)\n",
    "\n",
    "bc = np.dot(bt,Pc)\n",
    "\n",
    "print(\"ba = \", ba)\n",
    "print(\"\\n\")\n",
    "print(\"bb = \", bb)\n",
    "print(\"\\n\")\n",
    "print(\"bc = \", bc)\n",
    "print(\"\\n\")\n",
    "\n"
   ]
  },
  {
   "cell_type": "code",
   "execution_count": null,
   "metadata": {},
   "outputs": [],
   "source": [
    "\n"
   ]
  }
 ],
 "metadata": {
  "kernelspec": {
   "display_name": "Python 3",
   "language": "python",
   "name": "python3"
  },
  "language_info": {
   "codemirror_mode": {
    "name": "ipython",
    "version": 3
   },
   "file_extension": ".py",
   "mimetype": "text/x-python",
   "name": "python",
   "nbconvert_exporter": "python",
   "pygments_lexer": "ipython3",
   "version": "3.6.5"
  }
 },
 "nbformat": 4,
 "nbformat_minor": 2
}
