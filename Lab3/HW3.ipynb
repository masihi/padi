{
 "cells": [
  {
   "cell_type": "code",
   "execution_count": 14,
   "metadata": {},
   "outputs": [
    {
     "name": "stdout",
     "output_type": "stream",
     "text": [
      "final distribution = \n",
      "[0.  0.5 0.5 0.  0.  0.  0. ]\n"
     ]
    }
   ],
   "source": [
    "import numpy as np\n",
    "\n",
    "\n",
    "X = [ 'A', 'B1', 'B2', 'C', 'D', 'E', 'F']\n",
    "\n",
    "A = ['a', 'b', 'c']\n",
    "\n",
    "Z = ['A', 'B', 'C', 'D', 'E', 'F']\n",
    "\n",
    "# Preserving the order in X\n",
    "\n",
    "Pa =np.array([[0, 0.5, 0.5, 0, 0, 0, 0],\n",
    "     [0, 0, 0, 0, 0, 1, 0],\n",
    "     [0, 0, 0, 0, 0, 0, 1],\n",
    "     [0, 1, 0, 0, 0, 0, 0],\n",
    "     [0, 0, 1, 0, 0, 0, 0],\n",
    "     [1, 0, 0, 0, 0, 0, 0],\n",
    "     [1, 0, 0, 0, 0, 0, 0]\n",
    "    ])\n",
    "\n",
    "Pb =np.array([[0, 0.5, 0.5, 0, 0, 0, 0],\n",
    "     [0, 0, 0, 0, 0, 0, 1],\n",
    "     [0, 0, 0, 0, 0, 1, 0],\n",
    "     [0, 1, 0, 0, 0, 0, 0],\n",
    "     [0, 0, 1, 0, 0, 0, 0],\n",
    "     [1, 0, 0, 0, 0, 0, 0],\n",
    "     [1, 0, 0, 0, 0, 0, 0]\n",
    "    ])\n",
    "\n",
    "\n",
    "\n",
    "Pc =np.array([[0, 0.5, 0.5, 0, 0, 0, 0],\n",
    "     [0, 0, 0, 1, 0, 0, 0],\n",
    "     [0, 0, 0, 0, 1, 0, 0],\n",
    "     [0, 1, 0, 0, 0, 0, 0],\n",
    "     [0, 0, 1, 0, 0, 0, 0],\n",
    "     [1, 0, 0, 0, 0, 0, 0],\n",
    "     [1, 0, 0, 0, 0, 0, 0]\n",
    "    ])\n",
    "\n",
    "Za = np.array([\n",
    "    [1, 0, 0, 0, 0, 0],\n",
    "    [0, 1, 0, 0, 0, 0],\n",
    "    [0, 1, 0, 0, 0, 0],\n",
    "    [0, 0, 1, 0, 0, 0],\n",
    "    [0, 0, 0, 1, 0, 0],\n",
    "    [0, 0, 0, 0, 1, 0],\n",
    "    [0, 0, 0, 0, 0, 1]\n",
    "   ])\n",
    "\n",
    "Zb = Zc = Za\n",
    "\n",
    "C = np.array([\n",
    "    [1, 1, 1],\n",
    "    [1, 1, 1],\n",
    "    [1, 1, 1],\n",
    "    [1, 1, 1],\n",
    "    [1, 1, 1],\n",
    "    [1, 1, 1],\n",
    "    [0, 0, 0]\n",
    "])\n",
    "\n",
    "\n",
    "bt = np.array([0, 0.5, 0.5, 0, 0, 0, 0])\n",
    "\n",
    "ba = np.dot(bt,Pa)\n",
    "\n",
    "bb = np.dot(ba,Pb)\n",
    "\n",
    "bc = np.dot(bb,Pc)\n",
    "\n",
    "print('final distribution = ')\n",
    "print(bc)"
   ]
  },
  {
   "cell_type": "code",
   "execution_count": null,
   "metadata": {},
   "outputs": [],
   "source": []
  }
 ],
 "metadata": {
  "kernelspec": {
   "display_name": "Python 3",
   "language": "python",
   "name": "python3"
  },
  "language_info": {
   "codemirror_mode": {
    "name": "ipython",
    "version": 3
   },
   "file_extension": ".py",
   "mimetype": "text/x-python",
   "name": "python",
   "nbconvert_exporter": "python",
   "pygments_lexer": "ipython3",
   "version": "3.6.5"
  }
 },
 "nbformat": 4,
 "nbformat_minor": 2
}
