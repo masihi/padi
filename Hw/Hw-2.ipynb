{
 "cells": [
  {
   "cell_type": "code",
   "execution_count": null,
   "metadata": {},
   "outputs": [],
   "source": [
    "#Ex.1\n",
    "\n",
    "#Estados para representar ter chave?\n",
    "\n",
    "X = {\"G\", \"R\", \"B\", \"TL\", \"TR\", \"BL\", \"BR\"}\n",
    "A = {\"up\", \"right\", \"left\", \"down\", \"wait\"}"
   ]
  },
  {
   "cell_type": "code",
   "execution_count": null,
   "metadata": {},
   "outputs": [],
   "source": [
    "#Ex. 2\n",
    "Pright = [[1, 0, 0, 0, 0, 0, 0],\n",
    "          [0, 1, 0, 0, 0, 0, 0],\n",
    "          [0, 0, 0.2, 0.8, 0, 0, 0],\n",
    "          [0, 0, 0, 0.2, 0.8, 0, 0],\n",
    "          [0, 0, 0, 0, 1, 0, 0],\n",
    "          [0, 0, 0, 0, 0, 0.2, 0.8],\n",
    "          [0.8, 0, 0, 0, 0, 0, 0.2]]"
   ]
  }
 ],
 "metadata": {
  "kernelspec": {
   "display_name": "Python 3",
   "language": "python",
   "name": "python3"
  },
  "language_info": {
   "codemirror_mode": {
    "name": "ipython",
    "version": 3
   },
   "file_extension": ".py",
   "mimetype": "text/x-python",
   "name": "python",
   "nbconvert_exporter": "python",
   "pygments_lexer": "ipython3",
   "version": "3.6.5"
  }
 },
 "nbformat": 4,
 "nbformat_minor": 2
}
