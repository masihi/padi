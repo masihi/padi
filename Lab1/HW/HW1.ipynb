{
 "cells": [
  {
   "cell_type": "code",
   "execution_count": 29,
   "metadata": {
    "scrolled": false
   },
   "outputs": [
    {
     "name": "stdout",
     "output_type": "stream",
     "text": [
      "a) \n",
      "\n",
      "State Space X \n",
      " \n",
      "  X =  ['A', 'S1', 'S2', 'S3', 'S4', 'S5', 'S6', 'B']\n",
      "\n",
      "\n",
      "Trasintion Matrix P \n",
      " \n",
      "[[0.   0.5  0.   0.   0.15 0.35 0.   0.  ]\n",
      " [0.   0.   1.   0.   0.   0.   0.   0.  ]\n",
      " [0.   0.   0.   1.   0.   0.   0.   0.  ]\n",
      " [0.   0.   0.   0.   0.   0.   0.   1.  ]\n",
      " [0.   0.   0.   0.   0.   0.   0.   1.  ]\n",
      " [0.   0.   0.   0.   0.   0.   1.   0.  ]\n",
      " [0.   0.   0.   0.   0.   0.   0.   1.  ]\n",
      " [1.   0.   0.   0.   0.   0.   0.   0.  ]]\n",
      "\n",
      "\n"
     ]
    }
   ],
   "source": [
    "#Group 22\n",
    "#HW1\n",
    "\n",
    "import numpy as np \n",
    "\n",
    "# a)\n",
    "# State Space\n",
    "# Station A, Stations 1 - 6, Station B\n",
    "\n",
    "X = ['A', 'S1', 'S2', 'S3', 'S4', 'S5', 'S6', 'B']\n",
    "\n",
    "#Markov Transition Probabilities\n",
    "\n",
    "P = np.array([\n",
    "    [0, 0.5, 0, 0, 0.15, 0.35, 0, 0],\n",
    "    [0, 0  , 1, 0, 0   , 0   , 0, 0],\n",
    "    [0, 0  , 0, 1, 0   , 0   , 0, 0],\n",
    "    [0, 0  , 0, 0, 0   , 0   , 0, 1],\n",
    "    [0, 0  , 0, 0, 0   , 0   , 0, 1],\n",
    "    [0, 0  , 0, 0, 0   , 0   , 1, 0],\n",
    "    [0, 0  , 0, 0, 0   , 0   , 0, 1],\n",
    "    [1, 0  , 0, 0, 0   , 0   , 0, 0],\n",
    "])\n",
    "print(\"a) \\n\")\n",
    "print(\"State Space X \\n \\n  X = \", X)\n",
    "print(\"\\n\")\n",
    "print(\"Trasintion Matrix P \\n \")\n",
    "print(P)\n",
    "print(\"\\n\")\n"
   ]
  },
  {
   "cell_type": "code",
   "execution_count": 27,
   "metadata": {},
   "outputs": [
    {
     "name": "stdout",
     "output_type": "stream",
     "text": [
      "b) \n",
      "\n",
      "Having in mind state space is \n",
      " \n",
      " ['A', 'S1', 'S2', 'S3', 'S4', 'S5', 'S6', 'B']\n",
      "\n",
      "\n",
      "The probability of the train being at each Station at t=3 starting from Station A is \n",
      "\n",
      " [0.15 0.   0.   0.5  0.   0.   0.   0.35]\n",
      "\n",
      "\n"
     ]
    }
   ],
   "source": [
    "#b) \n",
    "\n",
    "# The probability of train being in each station, can be computed\n",
    "# by elevating Trasition Probabilities, P, to the power of the number of steps.\n",
    "# In this case, 3.\n",
    "\n",
    "Pt3 = np.linalg.matrix_power(P, 3)\n",
    "print(\"b) \\n\")\n",
    "print(\"Having in mind state space is \\n \\n\", X)\n",
    "print(\"\\n\")\n",
    "print(\"The probability of the train being at each Station at t=3 starting from Station A is \\n\\n\" , Pt3[0])\n",
    "print(\"\\n\")"
   ]
  },
  {
   "cell_type": "code",
   "execution_count": 28,
   "metadata": {},
   "outputs": [],
   "source": [
    "# c) \n",
    "\n",
    "# x : expected waiting time for the passenger\n",
    "\n",
    "# TA4 : Time the trains takes to go from station 4 to A = 24 minutes\n",
    "\n",
    "# PA1 : Probability of the train following from Station A to 1 = 0.5 \n",
    "\n",
    "# TA3 : Time the train takes from Station A to 3 = 36 minutes\n",
    "\n",
    "# PA5 : Probability of the train following from Station A to 5 = 0.35\n",
    "\n",
    "# TA6 : Time the train takes from Station A to 6 = 24 minutes\n",
    "\n",
    "# PA4 : Probability of the train following from Station A to 4 = 0.15\n",
    "\n",
    "# TA4 : Time the train takes from Station A to 4 = 10 minutes\n",
    "\n",
    "# x = T4A + PA1(TA3 + x) + PA5(TA6 + x) + PA4(TA4)\n",
    "\n",
    "# x = 24 + 0.5 * (36 + x) + 0.35 * (24 + x) + 0.15 * 10\n",
    "\n",
    "# x = 51.9/0.15 = 346 minutes\n",
    "\n",
    "# x = 346 mins/ 60 mins = 5.76 hours\n",
    "\n"
   ]
  },
  {
   "cell_type": "code",
   "execution_count": null,
   "metadata": {},
   "outputs": [],
   "source": []
  }
 ],
 "metadata": {
  "kernelspec": {
   "display_name": "Python 3",
   "language": "python",
   "name": "python3"
  },
  "language_info": {
   "codemirror_mode": {
    "name": "ipython",
    "version": 3
   },
   "file_extension": ".py",
   "mimetype": "text/x-python",
   "name": "python",
   "nbconvert_exporter": "python",
   "pygments_lexer": "ipython3",
   "version": "3.6.5"
  }
 },
 "nbformat": 4,
 "nbformat_minor": 2
}
