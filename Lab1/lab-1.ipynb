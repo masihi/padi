{
 "cells": [
  {
   "cell_type": "markdown",
   "metadata": {},
   "source": [
    "# Learning and Decision Making"
   ]
  },
  {
   "cell_type": "markdown",
   "metadata": {},
   "source": [
    "## Laboratory 1: Markov chains\n",
    "\n",
    "In the end of the lab, you should submit all code/answers written in the tasks marked as \"Activity n. XXX\", together with the corresponding outputs and any replies to specific questions posed to the e-mail <adi.tecnico@gmail.com>. Make sure that the subject is of the form [&lt;group n.&gt;] LAB &lt;lab n.&gt;.\n",
    "\n",
    "### 1. Modeling\n",
    "\n",
    "Consider once again the train modeling problem described in the Homework and for which you wrote a Markov chain model:\n",
    "\n",
    "<img src=\"trains.png\" width=\"400px\">\n",
    "\n",
    "Recall that your chain should describe the motion of the single train traveling the network, where: \n",
    "\n",
    "* Stations $A$ and $B$ are just like regular stops;\n",
    "* The travel time between any two consecutive stops is exactly 10 minutes. The train stops exactly 2 minutes in each location.\n",
    "* At the intersection marked with a bold $\\times$, the train follows the branch 1-3 with probability 0.5, the branch 4 with probability 0.15, and the branch 5-6 with probability 0.35."
   ]
  },
  {
   "cell_type": "markdown",
   "metadata": {},
   "source": [
    "---\n",
    "\n",
    "#### Activity 1.        \n",
    "\n",
    "Implement your Markov chain model in Python. In particular,\n",
    "\n",
    "* Create a list with all the states;\n",
    "* Define a `numpy` array with the corresponding transition probabilities.\n",
    "\n",
    "The order for the states used in the transition probability matrix should match that in the list of states. \n",
    "\n",
    "**Note 1**: Don't forget to import `numpy`. If you need additional matrix operations (such as matrix powers or eigenvalues and eigenvectors), you may also import the library `numpy.linalg`.\n",
    "\n",
    "**Note 2**: Make sure to print the result in the end.\n",
    "\n",
    "---"
   ]
  },
  {
   "cell_type": "code",
   "execution_count": 6,
   "metadata": {},
   "outputs": [
    {
     "name": "stdout",
     "output_type": "stream",
     "text": [
      "X =  ['A', 'S1', 'S2', 'S3', 'S4', 'S5', 'S6', 'B'] \n",
      "\n",
      "P =\n",
      " [[0.   0.5  0.   0.   0.15 0.35 0.   0.  ]\n",
      " [0.   0.   1.   0.   0.   0.   0.   0.  ]\n",
      " [0.   0.   0.   1.   0.   0.   0.   0.  ]\n",
      " [0.   0.   0.   0.   0.   0.   0.   1.  ]\n",
      " [0.   0.   0.   0.   0.   0.   0.   1.  ]\n",
      " [0.   0.   0.   0.   0.   0.   1.   0.  ]\n",
      " [0.   0.   0.   0.   0.   0.   0.   1.  ]\n",
      " [1.   0.   0.   0.   0.   0.   0.   0.  ]] \n",
      "\n"
     ]
    }
   ],
   "source": [
    "# -- Insert your code here -- #\n",
    "import numpy as np\n",
    "\n",
    "# State Space\n",
    "# Station A, Stations 1 - 6, Station B\n",
    "\n",
    "X = ['A', 'S1', 'S2', 'S3', 'S4', 'S5', 'S6', 'B']\n",
    "\n",
    "#Markov Transition Probabilities\n",
    "\n",
    "P = np.array([\n",
    "    [0, 0.5, 0, 0, 0.15, 0.35, 0, 0],\n",
    "    [0, 0  , 1, 0, 0   , 0   , 0, 0],\n",
    "    [0, 0  , 0, 1, 0   , 0   , 0, 0],\n",
    "    [0, 0  , 0, 0, 0   , 0   , 0, 1],\n",
    "    [0, 0  , 0, 0, 0   , 0   , 0, 1],\n",
    "    [0, 0  , 0, 0, 0   , 0   , 1, 0],\n",
    "    [0, 0  , 0, 0, 0   , 0   , 0, 1],\n",
    "    [1, 0  , 0, 0, 0   , 0   , 0, 0],\n",
    "])\n",
    "print('X = ',X,  '\\n')\n",
    "print(\"P =\\n\" , P, \"\\n\")"
   ]
  },
  {
   "cell_type": "markdown",
   "metadata": {},
   "source": [
    "---\n",
    "\n",
    "#### Activity 2.\n",
    "\n",
    "Compute, using the proper transition matrix manipulations, the probability of the following trajectories:\n",
    "\n",
    "* 4 - $B$ - $A$ - 4\n",
    "* $A$ - 2 - 3 - $B$ - $A$\n",
    "* 5 - 6 - $B$ - $A$ - 4\n",
    "\n",
    "**Note:** Make sure to print the result in the end.\n",
    "\n",
    "---"
   ]
  },
  {
   "cell_type": "code",
   "execution_count": 10,
   "metadata": {},
   "outputs": [
    {
     "name": "stdout",
     "output_type": "stream",
     "text": [
      "0.15\n",
      "0.0\n",
      "0.15\n"
     ]
    }
   ],
   "source": [
    "# -- Insert your code here -- #\n",
    "#P[B|S4]*P[A|B]*P[S4|A]\n",
    "print(P[4,7]*P[7,0]*P[0,4])\n",
    "\n",
    "#P[S2|A]*P[S3|S2]*P[B|S3]*P[A|B]\n",
    "print(P[0,2]*P[2,3]*P[3,7]*P[7,0])\n",
    "\n",
    "#P[6|5]*P[B|6]*P[A|B]*P[4|A]\n",
    "print(P[5,6]*P[6,7]*P[7,0]*P[0,4])"
   ]
  },
  {
   "cell_type": "markdown",
   "metadata": {},
   "source": [
    "### 2. Stability"
   ]
  },
  {
   "cell_type": "markdown",
   "metadata": {},
   "source": [
    "---\n",
    "\n",
    "#### Activity 3\n",
    "\n",
    "Compute the stationary distribution for the chain. Confirm, computationally, that it is indeed the stationary distribution.\n",
    "\n",
    "**Note:** The stationary distribution is a *left* eigenvector of the transition probability matrix associated to the eigenvalue 1. As such, you may find useful the numpy function `numpy.linalg.eig`. Also, recall that the stationary distribution is *a distribution*.\n",
    "\n",
    "---"
   ]
  },
  {
   "cell_type": "code",
   "execution_count": 13,
   "metadata": {},
   "outputs": [
    {
     "name": "stdout",
     "output_type": "stream",
     "text": [
      "[0.22988506 0.11494253 0.11494253 0.11494253 0.03448276 0.08045977\n",
      " 0.08045977 0.22988506]\n",
      "\n",
      "\n",
      "1.0\n",
      "\n",
      "\n",
      "[0.22988506 0.11494253 0.11494253 0.11494253 0.03448276 0.08045977\n",
      " 0.08045977 0.22988506]\n",
      "\n",
      "\n",
      "This is a stationary matrix since u = uP. In this case, normvector = normvector * P\n"
     ]
    }
   ],
   "source": [
    "# -- Insert your code here -- #\n",
    "\n",
    "w,vector = np.linalg.eig(P.T)\n",
    "norma = np.linalg.norm(vector[:0])\n",
    "normvector=np.real(vector[:,0]/vector[:,0].sum())\n",
    "print(normvector)\n",
    "\n",
    "print(\"\\n\")\n",
    "print(sum(normvector))\n",
    "print(\"\\n\")\n",
    "\n",
    "def normalizeVector(vector):\n",
    "    normvector=np.real(vector[:,0]/vector[:,0].sum())\n",
    "    return normvector\n",
    "print(np.matmul(normvector,P))\n",
    "print(\"\\n\")\n",
    "\n",
    "print(\"This is a stationary matrix since u = uP. In this case, normvector = normvector * P\")"
   ]
  },
  {
   "cell_type": "markdown",
   "metadata": {},
   "source": [
    "---\n",
    "\n",
    "#### Activity 4.\n",
    "\n",
    "Empirically show that the chain is ergodic.\n",
    "\n",
    "**Note:** Recall that a chain is ergodic if, given any initial distribution, it converges to the stationary distribution.\n",
    "\n",
    "---"
   ]
  },
  {
   "cell_type": "code",
   "execution_count": 17,
   "metadata": {},
   "outputs": [
    {
     "ename": "SyntaxError",
     "evalue": "invalid syntax (<ipython-input-17-1c5ba5f32929>, line 3)",
     "output_type": "error",
     "traceback": [
      "\u001b[0;36m  File \u001b[0;32m\"<ipython-input-17-1c5ba5f32929>\"\u001b[0;36m, line \u001b[0;32m3\u001b[0m\n\u001b[0;31m    The chain is irreducible since any state can be reached from any state.\u001b[0m\n\u001b[0m            ^\u001b[0m\n\u001b[0;31mSyntaxError\u001b[0m\u001b[0;31m:\u001b[0m invalid syntax\n"
     ]
    }
   ],
   "source": [
    "# -- Insert your code here -- #\n",
    "\n",
    "The chain is irreducible since any state can be reached from any state.\n",
    "\n",
    "The chain is aperiodic since \n",
    "\n",
    "The chain is ergodic since it is aperiodic and irreducible."
   ]
  },
  {
   "cell_type": "markdown",
   "metadata": {},
   "source": [
    "### 3. Simulation\n",
    "\n",
    "You are now going to *simulate* the Markov chain that you defined in Question #1."
   ]
  },
  {
   "cell_type": "markdown",
   "metadata": {},
   "source": [
    "---\n",
    "\n",
    "#### Activity 5\n",
    "\n",
    "Generate a 10,000-step long trajectory of the chain defined in Activity #1. \n",
    "\n",
    "---"
   ]
  },
  {
   "cell_type": "code",
   "execution_count": 14,
   "metadata": {},
   "outputs": [
    {
     "name": "stdout",
     "output_type": "stream",
     "text": [
      "[[5]\n",
      " [6]\n",
      " [7]\n",
      " ...\n",
      " [6]\n",
      " [7]\n",
      " [0]]\n"
     ]
    }
   ],
   "source": [
    "# -- Insert your code here -- #\n",
    "from random import randint\n",
    "\n",
    "trajectory = np.zeros( (10000, 1), dtype=np.int8)\n",
    "state = 0\n",
    "\n",
    "for i in range (0, 10000):\n",
    "    state = np.random.choice(8, p=P[state])\n",
    "    trajectory[i]=state\n",
    "    \n",
    "print(trajectory)"
   ]
  },
  {
   "cell_type": "markdown",
   "metadata": {},
   "source": [
    "---\n",
    "\n",
    "#### Activity 6\n",
    "\n",
    "Draw a histogram of the trajectory generated in Activity #5. Make sure that the histogram has one bin for each state. Compare the relative frequencies with the result of Activity #3.\n",
    "\n",
    "**Note**: Don't forget to load `matplotlib`.\n",
    "\n",
    "---"
   ]
  },
  {
   "cell_type": "code",
   "execution_count": 16,
   "metadata": {},
   "outputs": [
    {
     "name": "stderr",
     "output_type": "stream",
     "text": [
      "/home/masihi/anaconda3/lib/python3.6/site-packages/matplotlib/axes/_axes.py:6462: UserWarning: The 'normed' kwarg is deprecated, and has been replaced by the 'density' kwarg.\n",
      "  warnings.warn(\"The 'normed' kwarg is deprecated, and has been \"\n"
     ]
    },
    {
     "data": {
      "image/png": "[encoded data removed]",
      "text/plain": [
       "<Figure size 432x288 with 1 Axes>"
      ]
     },
     "metadata": {},
     "output_type": "display_data"
    }
   ],
   "source": [
    "# -- Insert your code here -- #\n",
    "import numpy as np\n",
    "import matplotlib.pyplot as plt\n",
    "\n",
    "\n",
    "plt.hist(trajectory, bins=10, normed=1, rwidth=0.5, range=[-0.5, 9.5])\n",
    "plt.title(\"Histogram\")\n",
    "plt.xlabel(\"Value\")\n",
    "plt.ylabel(\"Frequency\")\n",
    "plt.show()"
   ]
  },
  {
   "cell_type": "code",
   "execution_count": null,
   "metadata": {},
   "outputs": [],
   "source": []
  }
 ],
 "metadata": {
  "kernelspec": {
   "display_name": "Python 3",
   "language": "python",
   "name": "python3"
  },
  "language_info": {
   "codemirror_mode": {
    "name": "ipython",
    "version": 3
   },
   "file_extension": ".py",
   "mimetype": "text/x-python",
   "name": "python",
   "nbconvert_exporter": "python",
   "pygments_lexer": "ipython3",
   "version": "3.6.5"
  }
 },
 "nbformat": 4,
 "nbformat_minor": 1
}
